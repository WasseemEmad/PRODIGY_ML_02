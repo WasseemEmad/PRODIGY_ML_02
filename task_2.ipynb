{
  "nbformat": 4,
  "nbformat_minor": 0,
  "metadata": {
    "colab": {
      "provenance": []
    },
    "kernelspec": {
      "name": "python3",
      "display_name": "Python 3"
    },
    "language_info": {
      "name": "python"
    }
  },
  "cells": [
    {
      "cell_type": "markdown",
      "source": [
        "#**PRODIGY Task 2**"
      ],
      "metadata": {
        "id": "kYVHszlQQYse"
      }
    },
    {
      "cell_type": "code",
      "source": [
        "import pandas as pd\n",
        "from sklearn.preprocessing import StandardScaler\n",
        "import matplotlib.pyplot as plt\n",
        "import numpy as np\n",
        "from sklearn.decomposition import PCA"
      ],
      "metadata": {
        "id": "NiLWbNu5V6T2"
      },
      "execution_count": 1,
      "outputs": []
    },
    {
      "cell_type": "markdown",
      "source": [
        "**Data Loading and Initial Inspection**\n",
        "\n",
        "Loading the dataset from a CSV file and inspecting its structure for data types and missing values."
      ],
      "metadata": {
        "id": "zCQIkh15QnkV"
      }
    },
    {
      "cell_type": "code",
      "source": [
        "dataset = pd.read_csv('Mall_Customers.csv')"
      ],
      "metadata": {
        "id": "kS1hDuGtR1BR"
      },
      "execution_count": 3,
      "outputs": []
    },
    {
      "cell_type": "markdown",
      "source": [
        "Displaying the first few rows of the dataset."
      ],
      "metadata": {
        "id": "5qk6qNoBQ9Q6"
      }
    },
    {
      "cell_type": "code",
      "source": [
        "dataset.head()"
      ],
      "metadata": {
        "colab": {
          "base_uri": "https://localhost:8080/",
          "height": 206
        },
        "id": "_xEtkZeKT6Sy",
        "outputId": "42f58f40-1a20-4f80-e035-ceaac7465d23"
      },
      "execution_count": null,
      "outputs": [
        {
          "output_type": "execute_result",
          "data": {
            "text/plain": [
              "   CustomerID  Gender  Age  Annual Income (k$)  Spending Score (1-100)\n",
              "0           1    Male   19                  15                      39\n",
              "1           2    Male   21                  15                      81\n",
              "2           3  Female   20                  16                       6\n",
              "3           4  Female   23                  16                      77\n",
              "4           5  Female   31                  17                      40"
            ],
            "text/html": [
              "\n",
              "  <div id=\"df-dc2672c4-0e89-44cd-b489-edfec5f55b1b\" class=\"colab-df-container\">\n",
              "    <div>\n",
              "<style scoped>\n",
              "    .dataframe tbody tr th:only-of-type {\n",
              "        vertical-align: middle;\n",
              "    }\n",
              "\n",
              "    .dataframe tbody tr th {\n",
              "        vertical-align: top;\n",
              "    }\n",
              "\n",
              "    .dataframe thead th {\n",
              "        text-align: right;\n",
              "    }\n",
              "</style>\n",
              "<table border=\"1\" class=\"dataframe\">\n",
              "  <thead>\n",
              "    <tr style=\"text-align: right;\">\n",
              "      <th></th>\n",
              "      <th>CustomerID</th>\n",
              "      <th>Gender</th>\n",
              "      <th>Age</th>\n",
              "      <th>Annual Income (k$)</th>\n",
              "      <th>Spending Score (1-100)</th>\n",
              "    </tr>\n",
              "  </thead>\n",
              "  <tbody>\n",
              "    <tr>\n",
              "      <th>0</th>\n",
              "      <td>1</td>\n",
              "      <td>Male</td>\n",
              "      <td>19</td>\n",
              "      <td>15</td>\n",
              "      <td>39</td>\n",
              "    </tr>\n",
              "    <tr>\n",
              "      <th>1</th>\n",
              "      <td>2</td>\n",
              "      <td>Male</td>\n",
              "      <td>21</td>\n",
              "      <td>15</td>\n",
              "      <td>81</td>\n",
              "    </tr>\n",
              "    <tr>\n",
              "      <th>2</th>\n",
              "      <td>3</td>\n",
              "      <td>Female</td>\n",
              "      <td>20</td>\n",
              "      <td>16</td>\n",
              "      <td>6</td>\n",
              "    </tr>\n",
              "    <tr>\n",
              "      <th>3</th>\n",
              "      <td>4</td>\n",
              "      <td>Female</td>\n",
              "      <td>23</td>\n",
              "      <td>16</td>\n",
              "      <td>77</td>\n",
              "    </tr>\n",
              "    <tr>\n",
              "      <th>4</th>\n",
              "      <td>5</td>\n",
              "      <td>Female</td>\n",
              "      <td>31</td>\n",
              "      <td>17</td>\n",
              "      <td>40</td>\n",
              "    </tr>\n",
              "  </tbody>\n",
              "</table>\n",
              "</div>\n",
              "    <div class=\"colab-df-buttons\">\n",
              "\n",
              "  <div class=\"colab-df-container\">\n",
              "    <button class=\"colab-df-convert\" onclick=\"convertToInteractive('df-dc2672c4-0e89-44cd-b489-edfec5f55b1b')\"\n",
              "            title=\"Convert this dataframe to an interactive table.\"\n",
              "            style=\"display:none;\">\n",
              "\n",
              "  <svg xmlns=\"http://www.w3.org/2000/svg\" height=\"24px\" viewBox=\"0 -960 960 960\">\n",
              "    <path d=\"M120-120v-720h720v720H120Zm60-500h600v-160H180v160Zm220 220h160v-160H400v160Zm0 220h160v-160H400v160ZM180-400h160v-160H180v160Zm440 0h160v-160H620v160ZM180-180h160v-160H180v160Zm440 0h160v-160H620v160Z\"/>\n",
              "  </svg>\n",
              "    </button>\n",
              "\n",
              "  <style>\n",
              "    .colab-df-container {\n",
              "      display:flex;\n",
              "      gap: 12px;\n",
              "    }\n",
              "\n",
              "    .colab-df-convert {\n",
              "      background-color: #E8F0FE;\n",
              "      border: none;\n",
              "      border-radius: 50%;\n",
              "      cursor: pointer;\n",
              "      display: none;\n",
              "      fill: #1967D2;\n",
              "      height: 32px;\n",
              "      padding: 0 0 0 0;\n",
              "      width: 32px;\n",
              "    }\n",
              "\n",
              "    .colab-df-convert:hover {\n",
              "      background-color: #E2EBFA;\n",
              "      box-shadow: 0px 1px 2px rgba(60, 64, 67, 0.3), 0px 1px 3px 1px rgba(60, 64, 67, 0.15);\n",
              "      fill: #174EA6;\n",
              "    }\n",
              "\n",
              "    .colab-df-buttons div {\n",
              "      margin-bottom: 4px;\n",
              "    }\n",
              "\n",
              "    [theme=dark] .colab-df-convert {\n",
              "      background-color: #3B4455;\n",
              "      fill: #D2E3FC;\n",
              "    }\n",
              "\n",
              "    [theme=dark] .colab-df-convert:hover {\n",
              "      background-color: #434B5C;\n",
              "      box-shadow: 0px 1px 3px 1px rgba(0, 0, 0, 0.15);\n",
              "      filter: drop-shadow(0px 1px 2px rgba(0, 0, 0, 0.3));\n",
              "      fill: #FFFFFF;\n",
              "    }\n",
              "  </style>\n",
              "\n",
              "    <script>\n",
              "      const buttonEl =\n",
              "        document.querySelector('#df-dc2672c4-0e89-44cd-b489-edfec5f55b1b button.colab-df-convert');\n",
              "      buttonEl.style.display =\n",
              "        google.colab.kernel.accessAllowed ? 'block' : 'none';\n",
              "\n",
              "      async function convertToInteractive(key) {\n",
              "        const element = document.querySelector('#df-dc2672c4-0e89-44cd-b489-edfec5f55b1b');\n",
              "        const dataTable =\n",
              "          await google.colab.kernel.invokeFunction('convertToInteractive',\n",
              "                                                    [key], {});\n",
              "        if (!dataTable) return;\n",
              "\n",
              "        const docLinkHtml = 'Like what you see? Visit the ' +\n",
              "          '<a target=\"_blank\" href=https://colab.research.google.com/notebooks/data_table.ipynb>data table notebook</a>'\n",
              "          + ' to learn more about interactive tables.';\n",
              "        element.innerHTML = '';\n",
              "        dataTable['output_type'] = 'display_data';\n",
              "        await google.colab.output.renderOutput(dataTable, element);\n",
              "        const docLink = document.createElement('div');\n",
              "        docLink.innerHTML = docLinkHtml;\n",
              "        element.appendChild(docLink);\n",
              "      }\n",
              "    </script>\n",
              "  </div>\n",
              "\n",
              "\n",
              "<div id=\"df-47834dbd-e215-404d-b667-776f3f85c3c8\">\n",
              "  <button class=\"colab-df-quickchart\" onclick=\"quickchart('df-47834dbd-e215-404d-b667-776f3f85c3c8')\"\n",
              "            title=\"Suggest charts\"\n",
              "            style=\"display:none;\">\n",
              "\n",
              "<svg xmlns=\"http://www.w3.org/2000/svg\" height=\"24px\"viewBox=\"0 0 24 24\"\n",
              "     width=\"24px\">\n",
              "    <g>\n",
              "        <path d=\"M19 3H5c-1.1 0-2 .9-2 2v14c0 1.1.9 2 2 2h14c1.1 0 2-.9 2-2V5c0-1.1-.9-2-2-2zM9 17H7v-7h2v7zm4 0h-2V7h2v10zm4 0h-2v-4h2v4z\"/>\n",
              "    </g>\n",
              "</svg>\n",
              "  </button>\n",
              "\n",
              "<style>\n",
              "  .colab-df-quickchart {\n",
              "      --bg-color: #E8F0FE;\n",
              "      --fill-color: #1967D2;\n",
              "      --hover-bg-color: #E2EBFA;\n",
              "      --hover-fill-color: #174EA6;\n",
              "      --disabled-fill-color: #AAA;\n",
              "      --disabled-bg-color: #DDD;\n",
              "  }\n",
              "\n",
              "  [theme=dark] .colab-df-quickchart {\n",
              "      --bg-color: #3B4455;\n",
              "      --fill-color: #D2E3FC;\n",
              "      --hover-bg-color: #434B5C;\n",
              "      --hover-fill-color: #FFFFFF;\n",
              "      --disabled-bg-color: #3B4455;\n",
              "      --disabled-fill-color: #666;\n",
              "  }\n",
              "\n",
              "  .colab-df-quickchart {\n",
              "    background-color: var(--bg-color);\n",
              "    border: none;\n",
              "    border-radius: 50%;\n",
              "    cursor: pointer;\n",
              "    display: none;\n",
              "    fill: var(--fill-color);\n",
              "    height: 32px;\n",
              "    padding: 0;\n",
              "    width: 32px;\n",
              "  }\n",
              "\n",
              "  .colab-df-quickchart:hover {\n",
              "    background-color: var(--hover-bg-color);\n",
              "    box-shadow: 0 1px 2px rgba(60, 64, 67, 0.3), 0 1px 3px 1px rgba(60, 64, 67, 0.15);\n",
              "    fill: var(--button-hover-fill-color);\n",
              "  }\n",
              "\n",
              "  .colab-df-quickchart-complete:disabled,\n",
              "  .colab-df-quickchart-complete:disabled:hover {\n",
              "    background-color: var(--disabled-bg-color);\n",
              "    fill: var(--disabled-fill-color);\n",
              "    box-shadow: none;\n",
              "  }\n",
              "\n",
              "  .colab-df-spinner {\n",
              "    border: 2px solid var(--fill-color);\n",
              "    border-color: transparent;\n",
              "    border-bottom-color: var(--fill-color);\n",
              "    animation:\n",
              "      spin 1s steps(1) infinite;\n",
              "  }\n",
              "\n",
              "  @keyframes spin {\n",
              "    0% {\n",
              "      border-color: transparent;\n",
              "      border-bottom-color: var(--fill-color);\n",
              "      border-left-color: var(--fill-color);\n",
              "    }\n",
              "    20% {\n",
              "      border-color: transparent;\n",
              "      border-left-color: var(--fill-color);\n",
              "      border-top-color: var(--fill-color);\n",
              "    }\n",
              "    30% {\n",
              "      border-color: transparent;\n",
              "      border-left-color: var(--fill-color);\n",
              "      border-top-color: var(--fill-color);\n",
              "      border-right-color: var(--fill-color);\n",
              "    }\n",
              "    40% {\n",
              "      border-color: transparent;\n",
              "      border-right-color: var(--fill-color);\n",
              "      border-top-color: var(--fill-color);\n",
              "    }\n",
              "    60% {\n",
              "      border-color: transparent;\n",
              "      border-right-color: var(--fill-color);\n",
              "    }\n",
              "    80% {\n",
              "      border-color: transparent;\n",
              "      border-right-color: var(--fill-color);\n",
              "      border-bottom-color: var(--fill-color);\n",
              "    }\n",
              "    90% {\n",
              "      border-color: transparent;\n",
              "      border-bottom-color: var(--fill-color);\n",
              "    }\n",
              "  }\n",
              "</style>\n",
              "\n",
              "  <script>\n",
              "    async function quickchart(key) {\n",
              "      const quickchartButtonEl =\n",
              "        document.querySelector('#' + key + ' button');\n",
              "      quickchartButtonEl.disabled = true;  // To prevent multiple clicks.\n",
              "      quickchartButtonEl.classList.add('colab-df-spinner');\n",
              "      try {\n",
              "        const charts = await google.colab.kernel.invokeFunction(\n",
              "            'suggestCharts', [key], {});\n",
              "      } catch (error) {\n",
              "        console.error('Error during call to suggestCharts:', error);\n",
              "      }\n",
              "      quickchartButtonEl.classList.remove('colab-df-spinner');\n",
              "      quickchartButtonEl.classList.add('colab-df-quickchart-complete');\n",
              "    }\n",
              "    (() => {\n",
              "      let quickchartButtonEl =\n",
              "        document.querySelector('#df-47834dbd-e215-404d-b667-776f3f85c3c8 button');\n",
              "      quickchartButtonEl.style.display =\n",
              "        google.colab.kernel.accessAllowed ? 'block' : 'none';\n",
              "    })();\n",
              "  </script>\n",
              "</div>\n",
              "\n",
              "    </div>\n",
              "  </div>\n"
            ],
            "application/vnd.google.colaboratory.intrinsic+json": {
              "type": "dataframe",
              "variable_name": "dataset",
              "summary": "{\n  \"name\": \"dataset\",\n  \"rows\": 200,\n  \"fields\": [\n    {\n      \"column\": \"CustomerID\",\n      \"properties\": {\n        \"dtype\": \"number\",\n        \"std\": 57,\n        \"min\": 1,\n        \"max\": 200,\n        \"num_unique_values\": 200,\n        \"samples\": [\n          96,\n          16,\n          31\n        ],\n        \"semantic_type\": \"\",\n        \"description\": \"\"\n      }\n    },\n    {\n      \"column\": \"Gender\",\n      \"properties\": {\n        \"dtype\": \"category\",\n        \"num_unique_values\": 2,\n        \"samples\": [\n          \"Female\",\n          \"Male\"\n        ],\n        \"semantic_type\": \"\",\n        \"description\": \"\"\n      }\n    },\n    {\n      \"column\": \"Age\",\n      \"properties\": {\n        \"dtype\": \"number\",\n        \"std\": 13,\n        \"min\": 18,\n        \"max\": 70,\n        \"num_unique_values\": 51,\n        \"samples\": [\n          55,\n          26\n        ],\n        \"semantic_type\": \"\",\n        \"description\": \"\"\n      }\n    },\n    {\n      \"column\": \"Annual Income (k$)\",\n      \"properties\": {\n        \"dtype\": \"number\",\n        \"std\": 26,\n        \"min\": 15,\n        \"max\": 137,\n        \"num_unique_values\": 64,\n        \"samples\": [\n          87,\n          101\n        ],\n        \"semantic_type\": \"\",\n        \"description\": \"\"\n      }\n    },\n    {\n      \"column\": \"Spending Score (1-100)\",\n      \"properties\": {\n        \"dtype\": \"number\",\n        \"std\": 25,\n        \"min\": 1,\n        \"max\": 99,\n        \"num_unique_values\": 84,\n        \"samples\": [\n          83,\n          39\n        ],\n        \"semantic_type\": \"\",\n        \"description\": \"\"\n      }\n    }\n  ]\n}"
            }
          },
          "metadata": {},
          "execution_count": 4
        }
      ]
    },
    {
      "cell_type": "markdown",
      "source": [
        "Checking data types and non-null values for each column."
      ],
      "metadata": {
        "id": "ea0b92GuRAOW"
      }
    },
    {
      "cell_type": "code",
      "source": [
        "dataset.info()"
      ],
      "metadata": {
        "colab": {
          "base_uri": "https://localhost:8080/"
        },
        "id": "lRzJPk3kT_QY",
        "outputId": "1e6b94ce-5884-464a-979a-20c80496d03f"
      },
      "execution_count": null,
      "outputs": [
        {
          "output_type": "stream",
          "name": "stdout",
          "text": [
            "<class 'pandas.core.frame.DataFrame'>\n",
            "RangeIndex: 200 entries, 0 to 199\n",
            "Data columns (total 5 columns):\n",
            " #   Column                  Non-Null Count  Dtype \n",
            "---  ------                  --------------  ----- \n",
            " 0   CustomerID              200 non-null    int64 \n",
            " 1   Gender                  200 non-null    object\n",
            " 2   Age                     200 non-null    int64 \n",
            " 3   Annual Income (k$)      200 non-null    int64 \n",
            " 4   Spending Score (1-100)  200 non-null    int64 \n",
            "dtypes: int64(4), object(1)\n",
            "memory usage: 7.9+ KB\n"
          ]
        }
      ]
    },
    {
      "cell_type": "markdown",
      "source": [
        "Identifying any missing values in the dataset."
      ],
      "metadata": {
        "id": "eHZO91VDRDmz"
      }
    },
    {
      "cell_type": "code",
      "source": [
        "dataset.isnull().sum()"
      ],
      "metadata": {
        "colab": {
          "base_uri": "https://localhost:8080/",
          "height": 241
        },
        "id": "gDUqtGnNUEc3",
        "outputId": "c9006e6a-8306-4b41-cc97-cad6f0080dda"
      },
      "execution_count": null,
      "outputs": [
        {
          "output_type": "execute_result",
          "data": {
            "text/plain": [
              "CustomerID                0\n",
              "Gender                    0\n",
              "Age                       0\n",
              "Annual Income (k$)        0\n",
              "Spending Score (1-100)    0\n",
              "dtype: int64"
            ],
            "text/html": [
              "<div>\n",
              "<style scoped>\n",
              "    .dataframe tbody tr th:only-of-type {\n",
              "        vertical-align: middle;\n",
              "    }\n",
              "\n",
              "    .dataframe tbody tr th {\n",
              "        vertical-align: top;\n",
              "    }\n",
              "\n",
              "    .dataframe thead th {\n",
              "        text-align: right;\n",
              "    }\n",
              "</style>\n",
              "<table border=\"1\" class=\"dataframe\">\n",
              "  <thead>\n",
              "    <tr style=\"text-align: right;\">\n",
              "      <th></th>\n",
              "      <th>0</th>\n",
              "    </tr>\n",
              "  </thead>\n",
              "  <tbody>\n",
              "    <tr>\n",
              "      <th>CustomerID</th>\n",
              "      <td>0</td>\n",
              "    </tr>\n",
              "    <tr>\n",
              "      <th>Gender</th>\n",
              "      <td>0</td>\n",
              "    </tr>\n",
              "    <tr>\n",
              "      <th>Age</th>\n",
              "      <td>0</td>\n",
              "    </tr>\n",
              "    <tr>\n",
              "      <th>Annual Income (k$)</th>\n",
              "      <td>0</td>\n",
              "    </tr>\n",
              "    <tr>\n",
              "      <th>Spending Score (1-100)</th>\n",
              "      <td>0</td>\n",
              "    </tr>\n",
              "  </tbody>\n",
              "</table>\n",
              "</div><br><label><b>dtype:</b> int64</label>"
            ]
          },
          "metadata": {},
          "execution_count": 6
        }
      ]
    },
    {
      "cell_type": "markdown",
      "source": [
        "**Feature Selection**\n",
        "\n",
        "Selecting relevant features ('Annual Income (k$)' and 'Spending Score (1-100)') for clustering analysis."
      ],
      "metadata": {
        "id": "AXlEd4OwQ2Ab"
      }
    },
    {
      "cell_type": "code",
      "source": [
        "X = dataset[['Annual Income (k$)', 'Spending Score (1-100)']]"
      ],
      "metadata": {
        "id": "RNC7Fk-YUOvJ"
      },
      "execution_count": 4,
      "outputs": []
    },
    {
      "cell_type": "markdown",
      "source": [
        "Displaying the first few rows of the selected features."
      ],
      "metadata": {
        "id": "kv5-70-vRNh8"
      }
    },
    {
      "cell_type": "code",
      "source": [
        "X.head()"
      ],
      "metadata": {
        "colab": {
          "base_uri": "https://localhost:8080/",
          "height": 206
        },
        "id": "CYTg6hPOUwXR",
        "outputId": "d63f9ac5-e2ea-4f65-a34e-3459be7fff74"
      },
      "execution_count": null,
      "outputs": [
        {
          "output_type": "execute_result",
          "data": {
            "text/plain": [
              "   Annual Income (k$)  Spending Score (1-100)\n",
              "0                  15                      39\n",
              "1                  15                      81\n",
              "2                  16                       6\n",
              "3                  16                      77\n",
              "4                  17                      40"
            ],
            "text/html": [
              "\n",
              "  <div id=\"df-913385cb-4ce0-4760-847f-4084abac0431\" class=\"colab-df-container\">\n",
              "    <div>\n",
              "<style scoped>\n",
              "    .dataframe tbody tr th:only-of-type {\n",
              "        vertical-align: middle;\n",
              "    }\n",
              "\n",
              "    .dataframe tbody tr th {\n",
              "        vertical-align: top;\n",
              "    }\n",
              "\n",
              "    .dataframe thead th {\n",
              "        text-align: right;\n",
              "    }\n",
              "</style>\n",
              "<table border=\"1\" class=\"dataframe\">\n",
              "  <thead>\n",
              "    <tr style=\"text-align: right;\">\n",
              "      <th></th>\n",
              "      <th>Annual Income (k$)</th>\n",
              "      <th>Spending Score (1-100)</th>\n",
              "    </tr>\n",
              "  </thead>\n",
              "  <tbody>\n",
              "    <tr>\n",
              "      <th>0</th>\n",
              "      <td>15</td>\n",
              "      <td>39</td>\n",
              "    </tr>\n",
              "    <tr>\n",
              "      <th>1</th>\n",
              "      <td>15</td>\n",
              "      <td>81</td>\n",
              "    </tr>\n",
              "    <tr>\n",
              "      <th>2</th>\n",
              "      <td>16</td>\n",
              "      <td>6</td>\n",
              "    </tr>\n",
              "    <tr>\n",
              "      <th>3</th>\n",
              "      <td>16</td>\n",
              "      <td>77</td>\n",
              "    </tr>\n",
              "    <tr>\n",
              "      <th>4</th>\n",
              "      <td>17</td>\n",
              "      <td>40</td>\n",
              "    </tr>\n",
              "  </tbody>\n",
              "</table>\n",
              "</div>\n",
              "    <div class=\"colab-df-buttons\">\n",
              "\n",
              "  <div class=\"colab-df-container\">\n",
              "    <button class=\"colab-df-convert\" onclick=\"convertToInteractive('df-913385cb-4ce0-4760-847f-4084abac0431')\"\n",
              "            title=\"Convert this dataframe to an interactive table.\"\n",
              "            style=\"display:none;\">\n",
              "\n",
              "  <svg xmlns=\"http://www.w3.org/2000/svg\" height=\"24px\" viewBox=\"0 -960 960 960\">\n",
              "    <path d=\"M120-120v-720h720v720H120Zm60-500h600v-160H180v160Zm220 220h160v-160H400v160Zm0 220h160v-160H400v160ZM180-400h160v-160H180v160Zm440 0h160v-160H620v160ZM180-180h160v-160H180v160Zm440 0h160v-160H620v160Z\"/>\n",
              "  </svg>\n",
              "    </button>\n",
              "\n",
              "  <style>\n",
              "    .colab-df-container {\n",
              "      display:flex;\n",
              "      gap: 12px;\n",
              "    }\n",
              "\n",
              "    .colab-df-convert {\n",
              "      background-color: #E8F0FE;\n",
              "      border: none;\n",
              "      border-radius: 50%;\n",
              "      cursor: pointer;\n",
              "      display: none;\n",
              "      fill: #1967D2;\n",
              "      height: 32px;\n",
              "      padding: 0 0 0 0;\n",
              "      width: 32px;\n",
              "    }\n",
              "\n",
              "    .colab-df-convert:hover {\n",
              "      background-color: #E2EBFA;\n",
              "      box-shadow: 0px 1px 2px rgba(60, 64, 67, 0.3), 0px 1px 3px 1px rgba(60, 64, 67, 0.15);\n",
              "      fill: #174EA6;\n",
              "    }\n",
              "\n",
              "    .colab-df-buttons div {\n",
              "      margin-bottom: 4px;\n",
              "    }\n",
              "\n",
              "    [theme=dark] .colab-df-convert {\n",
              "      background-color: #3B4455;\n",
              "      fill: #D2E3FC;\n",
              "    }\n",
              "\n",
              "    [theme=dark] .colab-df-convert:hover {\n",
              "      background-color: #434B5C;\n",
              "      box-shadow: 0px 1px 3px 1px rgba(0, 0, 0, 0.15);\n",
              "      filter: drop-shadow(0px 1px 2px rgba(0, 0, 0, 0.3));\n",
              "      fill: #FFFFFF;\n",
              "    }\n",
              "  </style>\n",
              "\n",
              "    <script>\n",
              "      const buttonEl =\n",
              "        document.querySelector('#df-913385cb-4ce0-4760-847f-4084abac0431 button.colab-df-convert');\n",
              "      buttonEl.style.display =\n",
              "        google.colab.kernel.accessAllowed ? 'block' : 'none';\n",
              "\n",
              "      async function convertToInteractive(key) {\n",
              "        const element = document.querySelector('#df-913385cb-4ce0-4760-847f-4084abac0431');\n",
              "        const dataTable =\n",
              "          await google.colab.kernel.invokeFunction('convertToInteractive',\n",
              "                                                    [key], {});\n",
              "        if (!dataTable) return;\n",
              "\n",
              "        const docLinkHtml = 'Like what you see? Visit the ' +\n",
              "          '<a target=\"_blank\" href=https://colab.research.google.com/notebooks/data_table.ipynb>data table notebook</a>'\n",
              "          + ' to learn more about interactive tables.';\n",
              "        element.innerHTML = '';\n",
              "        dataTable['output_type'] = 'display_data';\n",
              "        await google.colab.output.renderOutput(dataTable, element);\n",
              "        const docLink = document.createElement('div');\n",
              "        docLink.innerHTML = docLinkHtml;\n",
              "        element.appendChild(docLink);\n",
              "      }\n",
              "    </script>\n",
              "  </div>\n",
              "\n",
              "\n",
              "<div id=\"df-12d4a6d7-c7ee-43d0-b13b-688b8062a5a8\">\n",
              "  <button class=\"colab-df-quickchart\" onclick=\"quickchart('df-12d4a6d7-c7ee-43d0-b13b-688b8062a5a8')\"\n",
              "            title=\"Suggest charts\"\n",
              "            style=\"display:none;\">\n",
              "\n",
              "<svg xmlns=\"http://www.w3.org/2000/svg\" height=\"24px\"viewBox=\"0 0 24 24\"\n",
              "     width=\"24px\">\n",
              "    <g>\n",
              "        <path d=\"M19 3H5c-1.1 0-2 .9-2 2v14c0 1.1.9 2 2 2h14c1.1 0 2-.9 2-2V5c0-1.1-.9-2-2-2zM9 17H7v-7h2v7zm4 0h-2V7h2v10zm4 0h-2v-4h2v4z\"/>\n",
              "    </g>\n",
              "</svg>\n",
              "  </button>\n",
              "\n",
              "<style>\n",
              "  .colab-df-quickchart {\n",
              "      --bg-color: #E8F0FE;\n",
              "      --fill-color: #1967D2;\n",
              "      --hover-bg-color: #E2EBFA;\n",
              "      --hover-fill-color: #174EA6;\n",
              "      --disabled-fill-color: #AAA;\n",
              "      --disabled-bg-color: #DDD;\n",
              "  }\n",
              "\n",
              "  [theme=dark] .colab-df-quickchart {\n",
              "      --bg-color: #3B4455;\n",
              "      --fill-color: #D2E3FC;\n",
              "      --hover-bg-color: #434B5C;\n",
              "      --hover-fill-color: #FFFFFF;\n",
              "      --disabled-bg-color: #3B4455;\n",
              "      --disabled-fill-color: #666;\n",
              "  }\n",
              "\n",
              "  .colab-df-quickchart {\n",
              "    background-color: var(--bg-color);\n",
              "    border: none;\n",
              "    border-radius: 50%;\n",
              "    cursor: pointer;\n",
              "    display: none;\n",
              "    fill: var(--fill-color);\n",
              "    height: 32px;\n",
              "    padding: 0;\n",
              "    width: 32px;\n",
              "  }\n",
              "\n",
              "  .colab-df-quickchart:hover {\n",
              "    background-color: var(--hover-bg-color);\n",
              "    box-shadow: 0 1px 2px rgba(60, 64, 67, 0.3), 0 1px 3px 1px rgba(60, 64, 67, 0.15);\n",
              "    fill: var(--button-hover-fill-color);\n",
              "  }\n",
              "\n",
              "  .colab-df-quickchart-complete:disabled,\n",
              "  .colab-df-quickchart-complete:disabled:hover {\n",
              "    background-color: var(--disabled-bg-color);\n",
              "    fill: var(--disabled-fill-color);\n",
              "    box-shadow: none;\n",
              "  }\n",
              "\n",
              "  .colab-df-spinner {\n",
              "    border: 2px solid var(--fill-color);\n",
              "    border-color: transparent;\n",
              "    border-bottom-color: var(--fill-color);\n",
              "    animation:\n",
              "      spin 1s steps(1) infinite;\n",
              "  }\n",
              "\n",
              "  @keyframes spin {\n",
              "    0% {\n",
              "      border-color: transparent;\n",
              "      border-bottom-color: var(--fill-color);\n",
              "      border-left-color: var(--fill-color);\n",
              "    }\n",
              "    20% {\n",
              "      border-color: transparent;\n",
              "      border-left-color: var(--fill-color);\n",
              "      border-top-color: var(--fill-color);\n",
              "    }\n",
              "    30% {\n",
              "      border-color: transparent;\n",
              "      border-left-color: var(--fill-color);\n",
              "      border-top-color: var(--fill-color);\n",
              "      border-right-color: var(--fill-color);\n",
              "    }\n",
              "    40% {\n",
              "      border-color: transparent;\n",
              "      border-right-color: var(--fill-color);\n",
              "      border-top-color: var(--fill-color);\n",
              "    }\n",
              "    60% {\n",
              "      border-color: transparent;\n",
              "      border-right-color: var(--fill-color);\n",
              "    }\n",
              "    80% {\n",
              "      border-color: transparent;\n",
              "      border-right-color: var(--fill-color);\n",
              "      border-bottom-color: var(--fill-color);\n",
              "    }\n",
              "    90% {\n",
              "      border-color: transparent;\n",
              "      border-bottom-color: var(--fill-color);\n",
              "    }\n",
              "  }\n",
              "</style>\n",
              "\n",
              "  <script>\n",
              "    async function quickchart(key) {\n",
              "      const quickchartButtonEl =\n",
              "        document.querySelector('#' + key + ' button');\n",
              "      quickchartButtonEl.disabled = true;  // To prevent multiple clicks.\n",
              "      quickchartButtonEl.classList.add('colab-df-spinner');\n",
              "      try {\n",
              "        const charts = await google.colab.kernel.invokeFunction(\n",
              "            'suggestCharts', [key], {});\n",
              "      } catch (error) {\n",
              "        console.error('Error during call to suggestCharts:', error);\n",
              "      }\n",
              "      quickchartButtonEl.classList.remove('colab-df-spinner');\n",
              "      quickchartButtonEl.classList.add('colab-df-quickchart-complete');\n",
              "    }\n",
              "    (() => {\n",
              "      let quickchartButtonEl =\n",
              "        document.querySelector('#df-12d4a6d7-c7ee-43d0-b13b-688b8062a5a8 button');\n",
              "      quickchartButtonEl.style.display =\n",
              "        google.colab.kernel.accessAllowed ? 'block' : 'none';\n",
              "    })();\n",
              "  </script>\n",
              "</div>\n",
              "\n",
              "    </div>\n",
              "  </div>\n"
            ],
            "application/vnd.google.colaboratory.intrinsic+json": {
              "type": "dataframe",
              "variable_name": "X",
              "summary": "{\n  \"name\": \"X\",\n  \"rows\": 200,\n  \"fields\": [\n    {\n      \"column\": \"Annual Income (k$)\",\n      \"properties\": {\n        \"dtype\": \"number\",\n        \"std\": 26,\n        \"min\": 15,\n        \"max\": 137,\n        \"num_unique_values\": 64,\n        \"samples\": [\n          87,\n          101,\n          15\n        ],\n        \"semantic_type\": \"\",\n        \"description\": \"\"\n      }\n    },\n    {\n      \"column\": \"Spending Score (1-100)\",\n      \"properties\": {\n        \"dtype\": \"number\",\n        \"std\": 25,\n        \"min\": 1,\n        \"max\": 99,\n        \"num_unique_values\": 84,\n        \"samples\": [\n          83,\n          39,\n          71\n        ],\n        \"semantic_type\": \"\",\n        \"description\": \"\"\n      }\n    }\n  ]\n}"
            }
          },
          "metadata": {},
          "execution_count": 8
        }
      ]
    },
    {
      "cell_type": "markdown",
      "source": [
        "**Feature scaling**\n"
      ],
      "metadata": {
        "id": "2IGUTxBRRPnz"
      }
    },
    {
      "cell_type": "code",
      "source": [
        "Sc = StandardScaler()\n",
        "X_scaled = Sc.fit_transform(X)"
      ],
      "metadata": {
        "id": "wERM2AGHU0B4"
      },
      "execution_count": 5,
      "outputs": []
    },
    {
      "cell_type": "code",
      "source": [
        "print(X_scaled)"
      ],
      "metadata": {
        "colab": {
          "base_uri": "https://localhost:8080/"
        },
        "id": "64KUSCDSVLAR",
        "outputId": "40e35a53-8642-4a5f-b94e-5d41783cfe7b"
      },
      "execution_count": null,
      "outputs": [
        {
          "output_type": "stream",
          "name": "stdout",
          "text": [
            "[[-1.73899919 -0.43480148]\n",
            " [-1.73899919  1.19570407]\n",
            " [-1.70082976 -1.71591298]\n",
            " [-1.70082976  1.04041783]\n",
            " [-1.66266033 -0.39597992]\n",
            " [-1.66266033  1.00159627]\n",
            " [-1.62449091 -1.71591298]\n",
            " [-1.62449091  1.70038436]\n",
            " [-1.58632148 -1.83237767]\n",
            " [-1.58632148  0.84631002]\n",
            " [-1.58632148 -1.4053405 ]\n",
            " [-1.58632148  1.89449216]\n",
            " [-1.54815205 -1.36651894]\n",
            " [-1.54815205  1.04041783]\n",
            " [-1.54815205 -1.44416206]\n",
            " [-1.54815205  1.11806095]\n",
            " [-1.50998262 -0.59008772]\n",
            " [-1.50998262  0.61338066]\n",
            " [-1.43364376 -0.82301709]\n",
            " [-1.43364376  1.8556706 ]\n",
            " [-1.39547433 -0.59008772]\n",
            " [-1.39547433  0.88513158]\n",
            " [-1.3573049  -1.75473454]\n",
            " [-1.3573049   0.88513158]\n",
            " [-1.24279661 -1.4053405 ]\n",
            " [-1.24279661  1.23452563]\n",
            " [-1.24279661 -0.7065524 ]\n",
            " [-1.24279661  0.41927286]\n",
            " [-1.20462718 -0.74537397]\n",
            " [-1.20462718  1.42863343]\n",
            " [-1.16645776 -1.7935561 ]\n",
            " [-1.16645776  0.88513158]\n",
            " [-1.05194947 -1.7935561 ]\n",
            " [-1.05194947  1.62274124]\n",
            " [-1.05194947 -1.4053405 ]\n",
            " [-1.05194947  1.19570407]\n",
            " [-1.01378004 -1.28887582]\n",
            " [-1.01378004  0.88513158]\n",
            " [-0.89927175 -0.93948177]\n",
            " [-0.89927175  0.96277471]\n",
            " [-0.86110232 -0.59008772]\n",
            " [-0.86110232  1.62274124]\n",
            " [-0.82293289 -0.55126616]\n",
            " [-0.82293289  0.41927286]\n",
            " [-0.82293289 -0.86183865]\n",
            " [-0.82293289  0.5745591 ]\n",
            " [-0.78476346  0.18634349]\n",
            " [-0.78476346 -0.12422899]\n",
            " [-0.78476346 -0.3183368 ]\n",
            " [-0.78476346 -0.3183368 ]\n",
            " [-0.70842461  0.06987881]\n",
            " [-0.70842461  0.38045129]\n",
            " [-0.67025518  0.14752193]\n",
            " [-0.67025518  0.38045129]\n",
            " [-0.67025518 -0.20187212]\n",
            " [-0.67025518 -0.35715836]\n",
            " [-0.63208575 -0.00776431]\n",
            " [-0.63208575 -0.16305055]\n",
            " [-0.55574689  0.03105725]\n",
            " [-0.55574689 -0.16305055]\n",
            " [-0.55574689  0.22516505]\n",
            " [-0.55574689  0.18634349]\n",
            " [-0.51757746  0.06987881]\n",
            " [-0.51757746  0.34162973]\n",
            " [-0.47940803  0.03105725]\n",
            " [-0.47940803  0.34162973]\n",
            " [-0.47940803 -0.00776431]\n",
            " [-0.47940803 -0.08540743]\n",
            " [-0.47940803  0.34162973]\n",
            " [-0.47940803 -0.12422899]\n",
            " [-0.4412386   0.18634349]\n",
            " [-0.4412386  -0.3183368 ]\n",
            " [-0.40306917 -0.04658587]\n",
            " [-0.40306917  0.22516505]\n",
            " [-0.25039146 -0.12422899]\n",
            " [-0.25039146  0.14752193]\n",
            " [-0.25039146  0.10870037]\n",
            " [-0.25039146 -0.08540743]\n",
            " [-0.25039146  0.06987881]\n",
            " [-0.25039146 -0.3183368 ]\n",
            " [-0.25039146  0.03105725]\n",
            " [-0.25039146  0.18634349]\n",
            " [-0.25039146 -0.35715836]\n",
            " [-0.25039146 -0.24069368]\n",
            " [-0.25039146  0.26398661]\n",
            " [-0.25039146 -0.16305055]\n",
            " [-0.13588317  0.30280817]\n",
            " [-0.13588317  0.18634349]\n",
            " [-0.09771374  0.38045129]\n",
            " [-0.09771374 -0.16305055]\n",
            " [-0.05954431  0.18634349]\n",
            " [-0.05954431 -0.35715836]\n",
            " [-0.02137488 -0.04658587]\n",
            " [-0.02137488 -0.39597992]\n",
            " [-0.02137488 -0.3183368 ]\n",
            " [-0.02137488  0.06987881]\n",
            " [-0.02137488 -0.12422899]\n",
            " [-0.02137488 -0.00776431]\n",
            " [ 0.01679455 -0.3183368 ]\n",
            " [ 0.01679455 -0.04658587]\n",
            " [ 0.05496398 -0.35715836]\n",
            " [ 0.05496398 -0.08540743]\n",
            " [ 0.05496398  0.34162973]\n",
            " [ 0.05496398  0.18634349]\n",
            " [ 0.05496398  0.22516505]\n",
            " [ 0.05496398 -0.3183368 ]\n",
            " [ 0.09313341 -0.00776431]\n",
            " [ 0.09313341 -0.16305055]\n",
            " [ 0.09313341 -0.27951524]\n",
            " [ 0.09313341 -0.08540743]\n",
            " [ 0.09313341  0.06987881]\n",
            " [ 0.09313341  0.14752193]\n",
            " [ 0.13130284 -0.3183368 ]\n",
            " [ 0.13130284 -0.16305055]\n",
            " [ 0.16947227 -0.08540743]\n",
            " [ 0.16947227 -0.00776431]\n",
            " [ 0.16947227 -0.27951524]\n",
            " [ 0.16947227  0.34162973]\n",
            " [ 0.24581112 -0.27951524]\n",
            " [ 0.24581112  0.26398661]\n",
            " [ 0.24581112  0.22516505]\n",
            " [ 0.24581112 -0.39597992]\n",
            " [ 0.32214998  0.30280817]\n",
            " [ 0.32214998  1.58391968]\n",
            " [ 0.36031941 -0.82301709]\n",
            " [ 0.36031941  1.04041783]\n",
            " [ 0.39848884 -0.59008772]\n",
            " [ 0.39848884  1.73920592]\n",
            " [ 0.39848884 -1.52180518]\n",
            " [ 0.39848884  0.96277471]\n",
            " [ 0.39848884 -1.5994483 ]\n",
            " [ 0.39848884  0.96277471]\n",
            " [ 0.43665827 -0.62890928]\n",
            " [ 0.43665827  0.80748846]\n",
            " [ 0.4748277  -1.75473454]\n",
            " [ 0.4748277   1.46745499]\n",
            " [ 0.4748277  -1.67709142]\n",
            " [ 0.4748277   0.88513158]\n",
            " [ 0.51299713 -1.56062674]\n",
            " [ 0.51299713  0.84631002]\n",
            " [ 0.55116656 -1.75473454]\n",
            " [ 0.55116656  1.6615628 ]\n",
            " [ 0.58933599 -0.39597992]\n",
            " [ 0.58933599  1.42863343]\n",
            " [ 0.62750542 -1.48298362]\n",
            " [ 0.62750542  1.81684904]\n",
            " [ 0.62750542 -0.55126616]\n",
            " [ 0.62750542  0.92395314]\n",
            " [ 0.66567484 -1.09476801]\n",
            " [ 0.66567484  1.54509812]\n",
            " [ 0.66567484 -1.28887582]\n",
            " [ 0.66567484  1.46745499]\n",
            " [ 0.66567484 -1.17241113]\n",
            " [ 0.66567484  1.00159627]\n",
            " [ 0.66567484 -1.32769738]\n",
            " [ 0.66567484  1.50627656]\n",
            " [ 0.66567484 -1.91002079]\n",
            " [ 0.66567484  1.07923939]\n",
            " [ 0.66567484 -1.91002079]\n",
            " [ 0.66567484  0.88513158]\n",
            " [ 0.70384427 -0.59008772]\n",
            " [ 0.70384427  1.27334719]\n",
            " [ 0.78018313 -1.75473454]\n",
            " [ 0.78018313  1.6615628 ]\n",
            " [ 0.93286085 -0.93948177]\n",
            " [ 0.93286085  0.96277471]\n",
            " [ 0.97103028 -1.17241113]\n",
            " [ 0.97103028  1.73920592]\n",
            " [ 1.00919971 -0.90066021]\n",
            " [ 1.00919971  0.49691598]\n",
            " [ 1.00919971 -1.44416206]\n",
            " [ 1.00919971  0.96277471]\n",
            " [ 1.00919971 -1.56062674]\n",
            " [ 1.00919971  1.62274124]\n",
            " [ 1.04736914 -1.44416206]\n",
            " [ 1.04736914  1.38981187]\n",
            " [ 1.04736914 -1.36651894]\n",
            " [ 1.04736914  0.72984534]\n",
            " [ 1.23821628 -1.4053405 ]\n",
            " [ 1.23821628  1.54509812]\n",
            " [ 1.390894   -0.7065524 ]\n",
            " [ 1.390894    1.38981187]\n",
            " [ 1.42906343 -1.36651894]\n",
            " [ 1.42906343  1.46745499]\n",
            " [ 1.46723286 -0.43480148]\n",
            " [ 1.46723286  1.81684904]\n",
            " [ 1.54357172 -1.01712489]\n",
            " [ 1.54357172  0.69102378]\n",
            " [ 1.61991057 -1.28887582]\n",
            " [ 1.61991057  1.35099031]\n",
            " [ 1.61991057 -1.05594645]\n",
            " [ 1.61991057  0.72984534]\n",
            " [ 2.00160487 -1.63826986]\n",
            " [ 2.00160487  1.58391968]\n",
            " [ 2.26879087 -1.32769738]\n",
            " [ 2.26879087  1.11806095]\n",
            " [ 2.49780745 -0.86183865]\n",
            " [ 2.49780745  0.92395314]\n",
            " [ 2.91767117 -1.25005425]\n",
            " [ 2.91767117  1.27334719]]\n"
          ]
        }
      ]
    },
    {
      "cell_type": "markdown",
      "source": [
        "**K-Means Helper Function: Finding Closest Centroids**\n",
        "\n",
        "This function calculates the nearest centroid for each data point, assigning cluster memberships."
      ],
      "metadata": {
        "id": "JwpGQuxRRiDt"
      }
    },
    {
      "cell_type": "code",
      "source": [
        "def find_nearest_centroids(X, centroids):\n",
        "    K = centroids.shape[0]\n",
        "    idex = np.zeros(X.shape[0], dtype=int)\n",
        "\n",
        "    for i in range(X.shape[0]):\n",
        "        distance = []\n",
        "        for j in range(centroids.shape[0]):\n",
        "            norm_ij = np.linalg.norm(X[i] - centroids[j])\n",
        "            distance.append(norm_ij)\n",
        "        idex[i] = np.argmin(distance)\n",
        "\n",
        "    return idex"
      ],
      "metadata": {
        "id": "_zSz1WPNVSsp"
      },
      "execution_count": 6,
      "outputs": []
    },
    {
      "cell_type": "markdown",
      "source": [
        "**K-Means Helper Function: Computing New Centroids**\n",
        "\n",
        "This function updates the centroids by calculating the mean of the data points assigned to each cluster.\n"
      ],
      "metadata": {
        "id": "hiXPBjLrRvzb"
      }
    },
    {
      "cell_type": "code",
      "source": [
        "def get_centroids(X, idex, K):\n",
        "    m, n = X.shape\n",
        "    centroids = np.zeros((K, n))\n",
        "\n",
        "    for k in range(K):\n",
        "        points = X[idex == k]\n",
        "        centroids[k] = np.mean(points, axis=0)\n",
        "\n",
        "    return centroids"
      ],
      "metadata": {
        "id": "r6jMsfj_V9B4"
      },
      "execution_count": 7,
      "outputs": []
    },
    {
      "cell_type": "markdown",
      "source": [
        "**K-Means Algorithm Execution**\n",
        "\n",
        "Running the K-Means algorithm for a specified number of iterations to find cluster centroids."
      ],
      "metadata": {
        "id": "0cae8OftSn9k"
      }
    },
    {
      "cell_type": "code",
      "source": [
        "def kMeans(X, initial_centroids, max_iters):\n",
        "    m, n = X.shape\n",
        "    K = initial_centroids.shape[0]\n",
        "    centroids = initial_centroids\n",
        "    idex = np.zeros(m)\n",
        "\n",
        "    for i in range(max_iters):\n",
        "        idex = find_nearest_centroids(X, centroids)\n",
        "        centroids = get_centroids(X, idex, K)\n",
        "\n",
        "    return centroids, idex"
      ],
      "metadata": {
        "id": "ZqKuBjhfWBoo"
      },
      "execution_count": 23,
      "outputs": []
    },
    {
      "cell_type": "markdown",
      "source": [
        "**Centroid Initialization for K-Means**\n",
        "\n",
        "Initializing random centroids to be used in the K-Means clustering process."
      ],
      "metadata": {
        "id": "mdPcjRgtSojM"
      }
    },
    {
      "cell_type": "code",
      "source": [
        "def get_kMeans_init_centroids(X, K):\n",
        "    randidx = np.random.permutation(X.shape[0])\n",
        "    centroids = X[randidx[:K]]\n",
        "    return centroids"
      ],
      "metadata": {
        "id": "aKjdlq7kWESE"
      },
      "execution_count": 9,
      "outputs": []
    },
    {
      "cell_type": "markdown",
      "source": [
        "**Within-Cluster Sum of Squares (WCSS) Computation**\n",
        "\n",
        "Calculating the WCSS to evaluate the quality of clustering."
      ],
      "metadata": {
        "id": "bVdjjyT1SpPd"
      }
    },
    {
      "cell_type": "code",
      "source": [
        "def compute_wcss(X, centroids, idx):\n",
        "    wcss = 0\n",
        "    for i in range(X.shape[0]):\n",
        "        wcss += np.sum((X[i] - centroids[idx[i]]) ** 2)\n",
        "    return wcss"
      ],
      "metadata": {
        "id": "jb7nJh7cWGp8"
      },
      "execution_count": 10,
      "outputs": []
    },
    {
      "cell_type": "markdown",
      "source": [
        "**Optimal Cluster Number Determination Using the Elbow Method**\n",
        "\n",
        "Using the elbow method to find the optimal number of clusters for K-Means."
      ],
      "metadata": {
        "id": "grDJUgjjSqEK"
      }
    },
    {
      "cell_type": "code",
      "source": [
        "def elbow_method(X, max_K=10):\n",
        "    wcss_values = []\n",
        "\n",
        "    for K in range(1, max_K + 1):\n",
        "        initial_centroids = get_kMeans_init_centroids(X, K)\n",
        "        centroids, idx = kMeans(X, initial_centroids,10)\n",
        "        wcss = compute_wcss(X, centroids, idx)\n",
        "        wcss_values.append(wcss)\n",
        "\n",
        "    plt.figure(figsize=(8, 6))\n",
        "    plt.plot(range(1, max_K + 1), wcss_values, marker='o', linestyle='-', color='b')\n",
        "    plt.title('Elbow Method for Optimal K')\n",
        "    plt.xlabel('Number of clusters (K)')\n",
        "    plt.ylabel('WCSS')\n",
        "    plt.show()"
      ],
      "metadata": {
        "id": "TOwtXtMNWJSm"
      },
      "execution_count": 24,
      "outputs": []
    },
    {
      "cell_type": "markdown",
      "source": [
        "**Applying the Elbow Method**\n",
        "\n",
        "Running the elbow method to determine the optimal number of clusters for the data"
      ],
      "metadata": {
        "id": "3hvFAnWxSrHb"
      }
    },
    {
      "cell_type": "code",
      "source": [
        "elbow_method(X_scaled, max_K=10)"
      ],
      "metadata": {
        "colab": {
          "base_uri": "https://localhost:8080/",
          "height": 564
        },
        "id": "pOC0PWdQWihs",
        "outputId": "3d339d33-0ac2-4ee7-96e8-9f93ddc868ce"
      },
      "execution_count": null,
      "outputs": [
        {
          "output_type": "display_data",
          "data": {
            "text/plain": [
              "<Figure size 800x600 with 1 Axes>"
            ],
            "image/png": "[encoded data removed]"
          },
          "metadata": {}
        }
      ]
    },
    {
      "cell_type": "markdown",
      "source": [
        "**Initializing and Running K-Means Clustering**\n",
        "\n",
        "Setting up and running the K-Means algorithm with K=5 clusters."
      ],
      "metadata": {
        "id": "gZ6_TB4ZV7xH"
      }
    },
    {
      "cell_type": "code",
      "source": [
        "K = 5\n",
        "initial_centroids = get_kMeans_init_centroids(X_scaled, K)\n",
        "\n",
        "\n",
        "max_iters = 500\n",
        "centroids, idx = kMeans(X_scaled, initial_centroids, max_iters)"
      ],
      "metadata": {
        "id": "OAYH4ENOXbPo"
      },
      "execution_count": 26,
      "outputs": []
    },
    {
      "cell_type": "markdown",
      "source": [
        "**Visualization of Clustered Data**\n",
        "\n",
        "Plotting the clusters along with their centroids."
      ],
      "metadata": {
        "id": "1RgCzldcWBw7"
      }
    },
    {
      "cell_type": "code",
      "source": [
        "plt.figure(figsize=(8, 6))\n",
        "plt.scatter(X_scaled[:, 0], X_scaled[:, 1], c=idx, cmap='viridis', marker='o', edgecolor='k')\n",
        "plt.scatter(centroids[:, 0], centroids[:, 1], s=300, c='red', label='Centroids')\n",
        "plt.title('Clusters after K-Means with K=5')\n",
        "plt.xlabel('Annual Income (scaled)')\n",
        "plt.ylabel('Spending Score (scaled)')\n",
        "plt.legend()\n",
        "plt.show()"
      ],
      "metadata": {
        "colab": {
          "base_uri": "https://localhost:8080/",
          "height": 564
        },
        "id": "woRZ0mf1Y7U5",
        "outputId": "608a29ea-9134-40b2-d295-5bf5bdd6e711"
      },
      "execution_count": null,
      "outputs": [
        {
          "output_type": "display_data",
          "data": {
            "text/plain": [
              "<Figure size 800x600 with 1 Axes>"
            ],
            "image/png": "[encoded data removed]"
          },
          "metadata": {}
        }
      ]
    },
    {
      "cell_type": "markdown",
      "source": [
        "**3D Clustering with an Additional Feature ('Age')**\n",
        "\n",
        "Extending the feature set to include 'Age' and standardizing the data."
      ],
      "metadata": {
        "id": "mfQM0t3sWL4P"
      }
    },
    {
      "cell_type": "code",
      "source": [
        "X_3 = dataset[['Age','Annual Income (k$)', 'Spending Score (1-100)']]"
      ],
      "metadata": {
        "id": "lrycbqPsj0B0"
      },
      "execution_count": 31,
      "outputs": []
    },
    {
      "cell_type": "markdown",
      "source": [
        "Displaying the first few rows of the new feature set."
      ],
      "metadata": {
        "id": "UFgRmntOWa86"
      }
    },
    {
      "cell_type": "code",
      "source": [
        "X_3.head()"
      ],
      "metadata": {
        "colab": {
          "base_uri": "https://localhost:8080/",
          "height": 206
        },
        "id": "1I01bnCdj_2h",
        "outputId": "dd2bd0b6-05f8-4c58-f896-9c40822731a8"
      },
      "execution_count": null,
      "outputs": [
        {
          "output_type": "execute_result",
          "data": {
            "text/plain": [
              "   Age  Annual Income (k$)  Spending Score (1-100)\n",
              "0   19                  15                      39\n",
              "1   21                  15                      81\n",
              "2   20                  16                       6\n",
              "3   23                  16                      77\n",
              "4   31                  17                      40"
            ],
            "text/html": [
              "\n",
              "  <div id=\"df-7189ff1f-0401-4ae5-97a3-acb0dc3dbe6f\" class=\"colab-df-container\">\n",
              "    <div>\n",
              "<style scoped>\n",
              "    .dataframe tbody tr th:only-of-type {\n",
              "        vertical-align: middle;\n",
              "    }\n",
              "\n",
              "    .dataframe tbody tr th {\n",
              "        vertical-align: top;\n",
              "    }\n",
              "\n",
              "    .dataframe thead th {\n",
              "        text-align: right;\n",
              "    }\n",
              "</style>\n",
              "<table border=\"1\" class=\"dataframe\">\n",
              "  <thead>\n",
              "    <tr style=\"text-align: right;\">\n",
              "      <th></th>\n",
              "      <th>Age</th>\n",
              "      <th>Annual Income (k$)</th>\n",
              "      <th>Spending Score (1-100)</th>\n",
              "    </tr>\n",
              "  </thead>\n",
              "  <tbody>\n",
              "    <tr>\n",
              "      <th>0</th>\n",
              "      <td>19</td>\n",
              "      <td>15</td>\n",
              "      <td>39</td>\n",
              "    </tr>\n",
              "    <tr>\n",
              "      <th>1</th>\n",
              "      <td>21</td>\n",
              "      <td>15</td>\n",
              "      <td>81</td>\n",
              "    </tr>\n",
              "    <tr>\n",
              "      <th>2</th>\n",
              "      <td>20</td>\n",
              "      <td>16</td>\n",
              "      <td>6</td>\n",
              "    </tr>\n",
              "    <tr>\n",
              "      <th>3</th>\n",
              "      <td>23</td>\n",
              "      <td>16</td>\n",
              "      <td>77</td>\n",
              "    </tr>\n",
              "    <tr>\n",
              "      <th>4</th>\n",
              "      <td>31</td>\n",
              "      <td>17</td>\n",
              "      <td>40</td>\n",
              "    </tr>\n",
              "  </tbody>\n",
              "</table>\n",
              "</div>\n",
              "    <div class=\"colab-df-buttons\">\n",
              "\n",
              "  <div class=\"colab-df-container\">\n",
              "    <button class=\"colab-df-convert\" onclick=\"convertToInteractive('df-7189ff1f-0401-4ae5-97a3-acb0dc3dbe6f')\"\n",
              "            title=\"Convert this dataframe to an interactive table.\"\n",
              "            style=\"display:none;\">\n",
              "\n",
              "  <svg xmlns=\"http://www.w3.org/2000/svg\" height=\"24px\" viewBox=\"0 -960 960 960\">\n",
              "    <path d=\"M120-120v-720h720v720H120Zm60-500h600v-160H180v160Zm220 220h160v-160H400v160Zm0 220h160v-160H400v160ZM180-400h160v-160H180v160Zm440 0h160v-160H620v160ZM180-180h160v-160H180v160Zm440 0h160v-160H620v160Z\"/>\n",
              "  </svg>\n",
              "    </button>\n",
              "\n",
              "  <style>\n",
              "    .colab-df-container {\n",
              "      display:flex;\n",
              "      gap: 12px;\n",
              "    }\n",
              "\n",
              "    .colab-df-convert {\n",
              "      background-color: #E8F0FE;\n",
              "      border: none;\n",
              "      border-radius: 50%;\n",
              "      cursor: pointer;\n",
              "      display: none;\n",
              "      fill: #1967D2;\n",
              "      height: 32px;\n",
              "      padding: 0 0 0 0;\n",
              "      width: 32px;\n",
              "    }\n",
              "\n",
              "    .colab-df-convert:hover {\n",
              "      background-color: #E2EBFA;\n",
              "      box-shadow: 0px 1px 2px rgba(60, 64, 67, 0.3), 0px 1px 3px 1px rgba(60, 64, 67, 0.15);\n",
              "      fill: #174EA6;\n",
              "    }\n",
              "\n",
              "    .colab-df-buttons div {\n",
              "      margin-bottom: 4px;\n",
              "    }\n",
              "\n",
              "    [theme=dark] .colab-df-convert {\n",
              "      background-color: #3B4455;\n",
              "      fill: #D2E3FC;\n",
              "    }\n",
              "\n",
              "    [theme=dark] .colab-df-convert:hover {\n",
              "      background-color: #434B5C;\n",
              "      box-shadow: 0px 1px 3px 1px rgba(0, 0, 0, 0.15);\n",
              "      filter: drop-shadow(0px 1px 2px rgba(0, 0, 0, 0.3));\n",
              "      fill: #FFFFFF;\n",
              "    }\n",
              "  </style>\n",
              "\n",
              "    <script>\n",
              "      const buttonEl =\n",
              "        document.querySelector('#df-7189ff1f-0401-4ae5-97a3-acb0dc3dbe6f button.colab-df-convert');\n",
              "      buttonEl.style.display =\n",
              "        google.colab.kernel.accessAllowed ? 'block' : 'none';\n",
              "\n",
              "      async function convertToInteractive(key) {\n",
              "        const element = document.querySelector('#df-7189ff1f-0401-4ae5-97a3-acb0dc3dbe6f');\n",
              "        const dataTable =\n",
              "          await google.colab.kernel.invokeFunction('convertToInteractive',\n",
              "                                                    [key], {});\n",
              "        if (!dataTable) return;\n",
              "\n",
              "        const docLinkHtml = 'Like what you see? Visit the ' +\n",
              "          '<a target=\"_blank\" href=https://colab.research.google.com/notebooks/data_table.ipynb>data table notebook</a>'\n",
              "          + ' to learn more about interactive tables.';\n",
              "        element.innerHTML = '';\n",
              "        dataTable['output_type'] = 'display_data';\n",
              "        await google.colab.output.renderOutput(dataTable, element);\n",
              "        const docLink = document.createElement('div');\n",
              "        docLink.innerHTML = docLinkHtml;\n",
              "        element.appendChild(docLink);\n",
              "      }\n",
              "    </script>\n",
              "  </div>\n",
              "\n",
              "\n",
              "<div id=\"df-c7eef033-4409-48cd-8102-98c124889925\">\n",
              "  <button class=\"colab-df-quickchart\" onclick=\"quickchart('df-c7eef033-4409-48cd-8102-98c124889925')\"\n",
              "            title=\"Suggest charts\"\n",
              "            style=\"display:none;\">\n",
              "\n",
              "<svg xmlns=\"http://www.w3.org/2000/svg\" height=\"24px\"viewBox=\"0 0 24 24\"\n",
              "     width=\"24px\">\n",
              "    <g>\n",
              "        <path d=\"M19 3H5c-1.1 0-2 .9-2 2v14c0 1.1.9 2 2 2h14c1.1 0 2-.9 2-2V5c0-1.1-.9-2-2-2zM9 17H7v-7h2v7zm4 0h-2V7h2v10zm4 0h-2v-4h2v4z\"/>\n",
              "    </g>\n",
              "</svg>\n",
              "  </button>\n",
              "\n",
              "<style>\n",
              "  .colab-df-quickchart {\n",
              "      --bg-color: #E8F0FE;\n",
              "      --fill-color: #1967D2;\n",
              "      --hover-bg-color: #E2EBFA;\n",
              "      --hover-fill-color: #174EA6;\n",
              "      --disabled-fill-color: #AAA;\n",
              "      --disabled-bg-color: #DDD;\n",
              "  }\n",
              "\n",
              "  [theme=dark] .colab-df-quickchart {\n",
              "      --bg-color: #3B4455;\n",
              "      --fill-color: #D2E3FC;\n",
              "      --hover-bg-color: #434B5C;\n",
              "      --hover-fill-color: #FFFFFF;\n",
              "      --disabled-bg-color: #3B4455;\n",
              "      --disabled-fill-color: #666;\n",
              "  }\n",
              "\n",
              "  .colab-df-quickchart {\n",
              "    background-color: var(--bg-color);\n",
              "    border: none;\n",
              "    border-radius: 50%;\n",
              "    cursor: pointer;\n",
              "    display: none;\n",
              "    fill: var(--fill-color);\n",
              "    height: 32px;\n",
              "    padding: 0;\n",
              "    width: 32px;\n",
              "  }\n",
              "\n",
              "  .colab-df-quickchart:hover {\n",
              "    background-color: var(--hover-bg-color);\n",
              "    box-shadow: 0 1px 2px rgba(60, 64, 67, 0.3), 0 1px 3px 1px rgba(60, 64, 67, 0.15);\n",
              "    fill: var(--button-hover-fill-color);\n",
              "  }\n",
              "\n",
              "  .colab-df-quickchart-complete:disabled,\n",
              "  .colab-df-quickchart-complete:disabled:hover {\n",
              "    background-color: var(--disabled-bg-color);\n",
              "    fill: var(--disabled-fill-color);\n",
              "    box-shadow: none;\n",
              "  }\n",
              "\n",
              "  .colab-df-spinner {\n",
              "    border: 2px solid var(--fill-color);\n",
              "    border-color: transparent;\n",
              "    border-bottom-color: var(--fill-color);\n",
              "    animation:\n",
              "      spin 1s steps(1) infinite;\n",
              "  }\n",
              "\n",
              "  @keyframes spin {\n",
              "    0% {\n",
              "      border-color: transparent;\n",
              "      border-bottom-color: var(--fill-color);\n",
              "      border-left-color: var(--fill-color);\n",
              "    }\n",
              "    20% {\n",
              "      border-color: transparent;\n",
              "      border-left-color: var(--fill-color);\n",
              "      border-top-color: var(--fill-color);\n",
              "    }\n",
              "    30% {\n",
              "      border-color: transparent;\n",
              "      border-left-color: var(--fill-color);\n",
              "      border-top-color: var(--fill-color);\n",
              "      border-right-color: var(--fill-color);\n",
              "    }\n",
              "    40% {\n",
              "      border-color: transparent;\n",
              "      border-right-color: var(--fill-color);\n",
              "      border-top-color: var(--fill-color);\n",
              "    }\n",
              "    60% {\n",
              "      border-color: transparent;\n",
              "      border-right-color: var(--fill-color);\n",
              "    }\n",
              "    80% {\n",
              "      border-color: transparent;\n",
              "      border-right-color: var(--fill-color);\n",
              "      border-bottom-color: var(--fill-color);\n",
              "    }\n",
              "    90% {\n",
              "      border-color: transparent;\n",
              "      border-bottom-color: var(--fill-color);\n",
              "    }\n",
              "  }\n",
              "</style>\n",
              "\n",
              "  <script>\n",
              "    async function quickchart(key) {\n",
              "      const quickchartButtonEl =\n",
              "        document.querySelector('#' + key + ' button');\n",
              "      quickchartButtonEl.disabled = true;  // To prevent multiple clicks.\n",
              "      quickchartButtonEl.classList.add('colab-df-spinner');\n",
              "      try {\n",
              "        const charts = await google.colab.kernel.invokeFunction(\n",
              "            'suggestCharts', [key], {});\n",
              "      } catch (error) {\n",
              "        console.error('Error during call to suggestCharts:', error);\n",
              "      }\n",
              "      quickchartButtonEl.classList.remove('colab-df-spinner');\n",
              "      quickchartButtonEl.classList.add('colab-df-quickchart-complete');\n",
              "    }\n",
              "    (() => {\n",
              "      let quickchartButtonEl =\n",
              "        document.querySelector('#df-c7eef033-4409-48cd-8102-98c124889925 button');\n",
              "      quickchartButtonEl.style.display =\n",
              "        google.colab.kernel.accessAllowed ? 'block' : 'none';\n",
              "    })();\n",
              "  </script>\n",
              "</div>\n",
              "\n",
              "    </div>\n",
              "  </div>\n"
            ],
            "application/vnd.google.colaboratory.intrinsic+json": {
              "type": "dataframe",
              "variable_name": "X_3",
              "summary": "{\n  \"name\": \"X_3\",\n  \"rows\": 200,\n  \"fields\": [\n    {\n      \"column\": \"Age\",\n      \"properties\": {\n        \"dtype\": \"number\",\n        \"std\": 13,\n        \"min\": 18,\n        \"max\": 70,\n        \"num_unique_values\": 51,\n        \"samples\": [\n          55,\n          26,\n          39\n        ],\n        \"semantic_type\": \"\",\n        \"description\": \"\"\n      }\n    },\n    {\n      \"column\": \"Annual Income (k$)\",\n      \"properties\": {\n        \"dtype\": \"number\",\n        \"std\": 26,\n        \"min\": 15,\n        \"max\": 137,\n        \"num_unique_values\": 64,\n        \"samples\": [\n          87,\n          101,\n          15\n        ],\n        \"semantic_type\": \"\",\n        \"description\": \"\"\n      }\n    },\n    {\n      \"column\": \"Spending Score (1-100)\",\n      \"properties\": {\n        \"dtype\": \"number\",\n        \"std\": 25,\n        \"min\": 1,\n        \"max\": 99,\n        \"num_unique_values\": 84,\n        \"samples\": [\n          83,\n          39,\n          71\n        ],\n        \"semantic_type\": \"\",\n        \"description\": \"\"\n      }\n    }\n  ]\n}"
            }
          },
          "metadata": {},
          "execution_count": 28
        }
      ]
    },
    {
      "cell_type": "markdown",
      "source": [
        "**Feature Scaling**"
      ],
      "metadata": {
        "id": "PPao1I3zWcDZ"
      }
    },
    {
      "cell_type": "code",
      "source": [
        "Sc = StandardScaler()\n",
        "X_3_scaled = Sc.fit_transform(X_3)"
      ],
      "metadata": {
        "id": "SfDbrcpAkGyX"
      },
      "execution_count": 32,
      "outputs": []
    },
    {
      "cell_type": "code",
      "source": [
        "print(X_3_scaled)"
      ],
      "metadata": {
        "colab": {
          "base_uri": "https://localhost:8080/"
        },
        "id": "XKqf4mGjkLGz",
        "outputId": "7815e84c-baa2-4d82-9f74-9abf10a70583"
      },
      "execution_count": null,
      "outputs": [
        {
          "output_type": "stream",
          "name": "stdout",
          "text": [
            "[[-1.42456879 -1.73899919 -0.43480148]\n",
            " [-1.28103541 -1.73899919  1.19570407]\n",
            " [-1.3528021  -1.70082976 -1.71591298]\n",
            " [-1.13750203 -1.70082976  1.04041783]\n",
            " [-0.56336851 -1.66266033 -0.39597992]\n",
            " [-1.20926872 -1.66266033  1.00159627]\n",
            " [-0.27630176 -1.62449091 -1.71591298]\n",
            " [-1.13750203 -1.62449091  1.70038436]\n",
            " [ 1.80493225 -1.58632148 -1.83237767]\n",
            " [-0.6351352  -1.58632148  0.84631002]\n",
            " [ 2.02023231 -1.58632148 -1.4053405 ]\n",
            " [-0.27630176 -1.58632148  1.89449216]\n",
            " [ 1.37433211 -1.54815205 -1.36651894]\n",
            " [-1.06573534 -1.54815205  1.04041783]\n",
            " [-0.13276838 -1.54815205 -1.44416206]\n",
            " [-1.20926872 -1.54815205  1.11806095]\n",
            " [-0.27630176 -1.50998262 -0.59008772]\n",
            " [-1.3528021  -1.50998262  0.61338066]\n",
            " [ 0.94373197 -1.43364376 -0.82301709]\n",
            " [-0.27630176 -1.43364376  1.8556706 ]\n",
            " [-0.27630176 -1.39547433 -0.59008772]\n",
            " [-0.99396865 -1.39547433  0.88513158]\n",
            " [ 0.51313183 -1.3573049  -1.75473454]\n",
            " [-0.56336851 -1.3573049   0.88513158]\n",
            " [ 1.08726535 -1.24279661 -1.4053405 ]\n",
            " [-0.70690189 -1.24279661  1.23452563]\n",
            " [ 0.44136514 -1.24279661 -0.7065524 ]\n",
            " [-0.27630176 -1.24279661  0.41927286]\n",
            " [ 0.08253169 -1.20462718 -0.74537397]\n",
            " [-1.13750203 -1.20462718  1.42863343]\n",
            " [ 1.51786549 -1.16645776 -1.7935561 ]\n",
            " [-1.28103541 -1.16645776  0.88513158]\n",
            " [ 1.01549866 -1.05194947 -1.7935561 ]\n",
            " [-1.49633548 -1.05194947  1.62274124]\n",
            " [ 0.7284319  -1.05194947 -1.4053405 ]\n",
            " [-1.28103541 -1.05194947  1.19570407]\n",
            " [ 0.22606507 -1.01378004 -1.28887582]\n",
            " [-0.6351352  -1.01378004  0.88513158]\n",
            " [-0.20453507 -0.89927175 -0.93948177]\n",
            " [-1.3528021  -0.89927175  0.96277471]\n",
            " [ 1.87669894 -0.86110232 -0.59008772]\n",
            " [-1.06573534 -0.86110232  1.62274124]\n",
            " [ 0.65666521 -0.82293289 -0.55126616]\n",
            " [-0.56336851 -0.82293289  0.41927286]\n",
            " [ 0.7284319  -0.82293289 -0.86183865]\n",
            " [-1.06573534 -0.82293289  0.5745591 ]\n",
            " [ 0.80019859 -0.78476346  0.18634349]\n",
            " [-0.85043527 -0.78476346 -0.12422899]\n",
            " [-0.70690189 -0.78476346 -0.3183368 ]\n",
            " [-0.56336851 -0.78476346 -0.3183368 ]\n",
            " [ 0.7284319  -0.70842461  0.06987881]\n",
            " [-0.41983513 -0.70842461  0.38045129]\n",
            " [-0.56336851 -0.67025518  0.14752193]\n",
            " [ 1.4460988  -0.67025518  0.38045129]\n",
            " [ 0.80019859 -0.67025518 -0.20187212]\n",
            " [ 0.58489852 -0.67025518 -0.35715836]\n",
            " [ 0.87196528 -0.63208575 -0.00776431]\n",
            " [ 2.16376569 -0.63208575 -0.16305055]\n",
            " [-0.85043527 -0.55574689  0.03105725]\n",
            " [ 1.01549866 -0.55574689 -0.16305055]\n",
            " [ 2.23553238 -0.55574689  0.22516505]\n",
            " [-1.42456879 -0.55574689  0.18634349]\n",
            " [ 2.02023231 -0.51757746  0.06987881]\n",
            " [ 1.08726535 -0.51757746  0.34162973]\n",
            " [ 1.73316556 -0.47940803  0.03105725]\n",
            " [-1.49633548 -0.47940803  0.34162973]\n",
            " [ 0.29783176 -0.47940803 -0.00776431]\n",
            " [ 2.091999   -0.47940803 -0.08540743]\n",
            " [-1.42456879 -0.47940803  0.34162973]\n",
            " [-0.49160182 -0.47940803 -0.12422899]\n",
            " [ 2.23553238 -0.4412386   0.18634349]\n",
            " [ 0.58489852 -0.4412386  -0.3183368 ]\n",
            " [ 1.51786549 -0.40306917 -0.04658587]\n",
            " [ 1.51786549 -0.40306917  0.22516505]\n",
            " [ 1.4460988  -0.25039146 -0.12422899]\n",
            " [-0.92220196 -0.25039146  0.14752193]\n",
            " [ 0.44136514 -0.25039146  0.10870037]\n",
            " [ 0.08253169 -0.25039146 -0.08540743]\n",
            " [-1.13750203 -0.25039146  0.06987881]\n",
            " [ 0.7284319  -0.25039146 -0.3183368 ]\n",
            " [ 1.30256542 -0.25039146  0.03105725]\n",
            " [-0.06100169 -0.25039146  0.18634349]\n",
            " [ 2.02023231 -0.25039146 -0.35715836]\n",
            " [ 0.51313183 -0.25039146 -0.24069368]\n",
            " [-1.28103541 -0.25039146  0.26398661]\n",
            " [ 0.65666521 -0.25039146 -0.16305055]\n",
            " [ 1.15903204 -0.13588317  0.30280817]\n",
            " [-1.20926872 -0.13588317  0.18634349]\n",
            " [-0.34806844 -0.09771374  0.38045129]\n",
            " [ 0.80019859 -0.09771374 -0.16305055]\n",
            " [ 2.091999   -0.05954431  0.18634349]\n",
            " [-1.49633548 -0.05954431 -0.35715836]\n",
            " [ 0.65666521 -0.02137488 -0.04658587]\n",
            " [ 0.08253169 -0.02137488 -0.39597992]\n",
            " [-0.49160182 -0.02137488 -0.3183368 ]\n",
            " [-1.06573534 -0.02137488  0.06987881]\n",
            " [ 0.58489852 -0.02137488 -0.12422899]\n",
            " [-0.85043527 -0.02137488 -0.00776431]\n",
            " [ 0.65666521  0.01679455 -0.3183368 ]\n",
            " [-1.3528021   0.01679455 -0.04658587]\n",
            " [-1.13750203  0.05496398 -0.35715836]\n",
            " [ 0.7284319   0.05496398 -0.08540743]\n",
            " [ 2.02023231  0.05496398  0.34162973]\n",
            " [-0.92220196  0.05496398  0.18634349]\n",
            " [ 0.7284319   0.05496398  0.22516505]\n",
            " [-1.28103541  0.05496398 -0.3183368 ]\n",
            " [ 1.94846562  0.09313341 -0.00776431]\n",
            " [ 1.08726535  0.09313341 -0.16305055]\n",
            " [ 2.091999    0.09313341 -0.27951524]\n",
            " [ 1.94846562  0.09313341 -0.08540743]\n",
            " [ 1.87669894  0.09313341  0.06987881]\n",
            " [-1.42456879  0.09313341  0.14752193]\n",
            " [-0.06100169  0.13130284 -0.3183368 ]\n",
            " [-1.42456879  0.13130284 -0.16305055]\n",
            " [-1.49633548  0.16947227 -0.08540743]\n",
            " [-1.42456879  0.16947227 -0.00776431]\n",
            " [ 1.73316556  0.16947227 -0.27951524]\n",
            " [ 0.7284319   0.16947227  0.34162973]\n",
            " [ 0.87196528  0.24581112 -0.27951524]\n",
            " [ 0.80019859  0.24581112  0.26398661]\n",
            " [-0.85043527  0.24581112  0.22516505]\n",
            " [-0.06100169  0.24581112 -0.39597992]\n",
            " [ 0.08253169  0.32214998  0.30280817]\n",
            " [ 0.010765    0.32214998  1.58391968]\n",
            " [-1.13750203  0.36031941 -0.82301709]\n",
            " [-0.56336851  0.36031941  1.04041783]\n",
            " [ 0.29783176  0.39848884 -0.59008772]\n",
            " [ 0.08253169  0.39848884  1.73920592]\n",
            " [ 1.4460988   0.39848884 -1.52180518]\n",
            " [-0.06100169  0.39848884  0.96277471]\n",
            " [ 0.58489852  0.39848884 -1.5994483 ]\n",
            " [ 0.010765    0.39848884  0.96277471]\n",
            " [-0.99396865  0.43665827 -0.62890928]\n",
            " [-0.56336851  0.43665827  0.80748846]\n",
            " [-1.3528021   0.4748277  -1.75473454]\n",
            " [-0.70690189  0.4748277   1.46745499]\n",
            " [ 0.36959845  0.4748277  -1.67709142]\n",
            " [-0.49160182  0.4748277   0.88513158]\n",
            " [-1.42456879  0.51299713 -1.56062674]\n",
            " [-0.27630176  0.51299713  0.84631002]\n",
            " [ 1.30256542  0.55116656 -1.75473454]\n",
            " [-0.49160182  0.55116656  1.6615628 ]\n",
            " [-0.77866858  0.58933599 -0.39597992]\n",
            " [-0.49160182  0.58933599  1.42863343]\n",
            " [-0.99396865  0.62750542 -1.48298362]\n",
            " [-0.77866858  0.62750542  1.81684904]\n",
            " [ 0.65666521  0.62750542 -0.55126616]\n",
            " [-0.49160182  0.62750542  0.92395314]\n",
            " [-0.34806844  0.66567484 -1.09476801]\n",
            " [-0.34806844  0.66567484  1.54509812]\n",
            " [ 0.29783176  0.66567484 -1.28887582]\n",
            " [ 0.010765    0.66567484  1.46745499]\n",
            " [ 0.36959845  0.66567484 -1.17241113]\n",
            " [-0.06100169  0.66567484  1.00159627]\n",
            " [ 0.58489852  0.66567484 -1.32769738]\n",
            " [-0.85043527  0.66567484  1.50627656]\n",
            " [-0.13276838  0.66567484 -1.91002079]\n",
            " [-0.6351352   0.66567484  1.07923939]\n",
            " [-0.34806844  0.66567484 -1.91002079]\n",
            " [-0.6351352   0.66567484  0.88513158]\n",
            " [ 1.23079873  0.70384427 -0.59008772]\n",
            " [-0.70690189  0.70384427  1.27334719]\n",
            " [-1.42456879  0.78018313 -1.75473454]\n",
            " [-0.56336851  0.78018313  1.6615628 ]\n",
            " [ 0.80019859  0.93286085 -0.93948177]\n",
            " [-0.20453507  0.93286085  0.96277471]\n",
            " [ 0.22606507  0.97103028 -1.17241113]\n",
            " [-0.41983513  0.97103028  1.73920592]\n",
            " [-0.20453507  1.00919971 -0.90066021]\n",
            " [-0.49160182  1.00919971  0.49691598]\n",
            " [ 0.08253169  1.00919971 -1.44416206]\n",
            " [-0.77866858  1.00919971  0.96277471]\n",
            " [-0.20453507  1.00919971 -1.56062674]\n",
            " [-0.20453507  1.00919971  1.62274124]\n",
            " [ 0.94373197  1.04736914 -1.44416206]\n",
            " [-0.6351352   1.04736914  1.38981187]\n",
            " [ 1.37433211  1.04736914 -1.36651894]\n",
            " [-0.85043527  1.04736914  0.72984534]\n",
            " [ 1.4460988   1.23821628 -1.4053405 ]\n",
            " [-0.27630176  1.23821628  1.54509812]\n",
            " [-0.13276838  1.390894   -0.7065524 ]\n",
            " [-0.49160182  1.390894    1.38981187]\n",
            " [ 0.51313183  1.42906343 -1.36651894]\n",
            " [-0.70690189  1.42906343  1.46745499]\n",
            " [ 0.15429838  1.46723286 -0.43480148]\n",
            " [-0.6351352   1.46723286  1.81684904]\n",
            " [ 1.08726535  1.54357172 -1.01712489]\n",
            " [-0.77866858  1.54357172  0.69102378]\n",
            " [ 0.15429838  1.61991057 -1.28887582]\n",
            " [-0.20453507  1.61991057  1.35099031]\n",
            " [-0.34806844  1.61991057 -1.05594645]\n",
            " [-0.49160182  1.61991057  0.72984534]\n",
            " [-0.41983513  2.00160487 -1.63826986]\n",
            " [-0.06100169  2.00160487  1.58391968]\n",
            " [ 0.58489852  2.26879087 -1.32769738]\n",
            " [-0.27630176  2.26879087  1.11806095]\n",
            " [ 0.44136514  2.49780745 -0.86183865]\n",
            " [-0.49160182  2.49780745  0.92395314]\n",
            " [-0.49160182  2.91767117 -1.25005425]\n",
            " [-0.6351352   2.91767117  1.27334719]]\n"
          ]
        }
      ]
    },
    {
      "cell_type": "markdown",
      "source": [
        "**Elbow Method for the Extended Feature Set**\n",
        "\n",
        "Determining the optimal number of clusters for the 3D feature data."
      ],
      "metadata": {
        "id": "3TYMTK6yWUgu"
      }
    },
    {
      "cell_type": "code",
      "source": [
        "elbow_method(X_3_scaled, max_K=10)"
      ],
      "metadata": {
        "colab": {
          "base_uri": "https://localhost:8080/",
          "height": 564
        },
        "id": "spYeTCu-kPfW",
        "outputId": "3e381015-42ad-49a1-d02c-17d14ebd383b"
      },
      "execution_count": null,
      "outputs": [
        {
          "output_type": "display_data",
          "data": {
            "text/plain": [
              "<Figure size 800x600 with 1 Axes>"
            ],
            "image/png": "[encoded data removed]"
          },
          "metadata": {}
        }
      ]
    },
    {
      "cell_type": "markdown",
      "source": [
        "**Dimensionality Reduction with PCA**\n",
        "\n",
        "Applying PCA to reduce dimensions for better visualization of clusters."
      ],
      "metadata": {
        "id": "hloWABo6Wg4g"
      }
    },
    {
      "cell_type": "code",
      "source": [
        "pca = PCA(n_components=2)\n",
        "X_pca = pca.fit_transform(X_3_scaled)"
      ],
      "metadata": {
        "id": "fsTl4F_vkW5w"
      },
      "execution_count": 33,
      "outputs": []
    },
    {
      "cell_type": "markdown",
      "source": [
        "**Running K-Means on PCA-Reduced Data**\n",
        "\n",
        "Setting up and running K-Means with K=5 clusters for the PCA-reduced data."
      ],
      "metadata": {
        "id": "EDWQ-l2aWvs8"
      }
    },
    {
      "cell_type": "code",
      "source": [
        "K = 5\n",
        "initial_centroids = get_kMeans_init_centroids(X_pca, K)\n",
        "\n",
        "max_iters = 90\n",
        "centroids, idx = kMeans(X_pca, initial_centroids, max_iters)"
      ],
      "metadata": {
        "id": "d9ezogeDkf5Z"
      },
      "execution_count": 34,
      "outputs": []
    },
    {
      "cell_type": "markdown",
      "source": [
        "**Visualization of Clusters in PCA-Reduced Data**\n",
        "\n",
        "Plotting the clusters and centroids after dimensionality reduction using PCA."
      ],
      "metadata": {
        "id": "drD9lbu4WzsC"
      }
    },
    {
      "cell_type": "code",
      "source": [
        "plt.figure(figsize=(8, 6))\n",
        "plt.scatter(X_pca[:, 0], X_pca[:, 1], c=idx, cmap='viridis', marker='o', edgecolor='k')\n",
        "plt.scatter(centroids[:, 0], centroids[:, 1], s=300, c='red', label='Centroids')\n",
        "plt.title('Clusters after K-Means with K=5 (PCA-reduced)')\n",
        "plt.xlabel('Principal Component 1')\n",
        "plt.ylabel('Principal Component 2')\n",
        "plt.legend()\n",
        "plt.show()"
      ],
      "metadata": {
        "colab": {
          "base_uri": "https://localhost:8080/",
          "height": 564
        },
        "id": "hNsvknswkjzw",
        "outputId": "4c12b534-7d26-4ef7-de93-4743385877e9"
      },
      "execution_count": null,
      "outputs": [
        {
          "output_type": "display_data",
          "data": {
            "text/plain": [
              "<Figure size 800x600 with 1 Axes>"
            ],
            "image/png": "[encoded data removed]"
          },
          "metadata": {}
        }
      ]
    }
  ]
}